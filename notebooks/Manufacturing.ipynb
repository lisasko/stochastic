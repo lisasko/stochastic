{
 "cells": [
  {
   "cell_type": "markdown",
   "id": "497b451e-c514-4b99-bbbf-fcf083e3bdcc",
   "metadata": {},
   "source": [
    "# Manufacturing Process Parameter Optimization Using CMA-ES\n",
    "\n",
    "In this notebook, we'll explore how to use the Covariance Matrix Adaptation Evolution Strategy (CMA-ES) to optimize manufacturing process parameters. This is a common industrial engineering problem where we need to balance multiple competing objectives.\n",
    "\n",
    "CMA-ES is a powerful evolutionary algorithm for continuous parameter optimization, especially useful when:\n",
    "- The objective function is non-linear or non-convex\n",
    "- There are multiple local optima\n",
    "- The function is noisy or complex\n",
    "\n",
    "## Problem Description\n",
    "\n",
    "We'll simulate a manufacturing process with three key parameters:\n",
    "1. **Temperature** (°C): Acceptable range 150-250°C\n",
    "2. **Pressure** (MPa): Acceptable range 5-15 MPa\n",
    "3. **Processing time** (min): Acceptable range 10-30 minutes\n",
    "\n",
    "We need to optimize these parameters to achieve multiple objectives:\n",
    "- **Maximize production rate** (units/hour)\n",
    "- **Minimize defect rate** (%)\n",
    "- **Minimize energy consumption** (kWh)\n",
    "\n",
    "Let's start by importing the necessary libraries and defining our objective functions."
   ]
  },
  {
   "cell_type": "code",
   "execution_count": 2,
   "id": "f406c942-6b44-4837-b083-2556b4abfa92",
   "metadata": {},
   "outputs": [],
   "source": [
    "import numpy as np\n",
    "import cma\n",
    "import matplotlib.pyplot as plt\n",
    "from matplotlib import cm\n",
    "from mpl_toolkits.mplot3d import Axes3D"
   ]
  },
  {
   "cell_type": "markdown",
   "id": "bf2ba756-79ce-4dd1-a7a6-32a3a1eea443",
   "metadata": {},
   "source": [
    "## Defining the Objective Functions\n",
    "\n",
    "We'll define three objective functions, one for each goal we're trying to optimize:\n",
    "\n",
    "1. **Production Rate**: We want to maximize this, so we'll negate the function since CMA-ES minimizes by default\n",
    "2. **Defect Rate**: We want to minimize this (lower is better)\n",
    "3. **Energy Consumption**: We want to minimize this (lower is better)\n",
    "\n",
    "Each function will include penalties for solutions outside the acceptable parameter ranges."
   ]
  },
  {
   "cell_type": "code",
   "execution_count": 3,
   "id": "9dcd756c-ee93-4042-bc3d-f983d2b92bdd",
   "metadata": {},
   "outputs": [],
   "source": [
    "# Manufacturing process parameter optimization example\n",
    "# Objectives:\n",
    "# 1. Maximize production rate (units/hour)\n",
    "# 2. Minimize defect rate (%)\n",
    "# 3. Minimize energy consumption (kWh)\n",
    "\n",
    "def manufacturing_process(x):\n",
    "    \"\"\"\n",
    "    Simulates a manufacturing process with the following parameters:\n",
    "    x[0] = Temperature (°C), acceptable range: [150, 250]\n",
    "    x[1] = Pressure (MPa), acceptable range: [5, 15]\n",
    "    x[2] = Processing time (min), acceptable range: [10, 30]\n",
    "    \n",
    "    Returns the negative of production rate (we'll minimize, so negative means maximize production)\n",
    "    \"\"\"\n",
    "    temperature, pressure, process_time = x\n",
    "    \n",
    "    # Penalize solutions outside acceptable ranges\n",
    "    penalty = 0\n",
    "    if temperature < 150 or temperature > 250:\n",
    "        penalty += 1e9\n",
    "    if pressure < 5 or pressure > 15:\n",
    "        penalty += 1e9\n",
    "    if process_time < 10 or process_time > 30:\n",
    "        penalty += 1e9\n",
    "    \n",
    "    # Production rate model (units/hour)\n",
    "    # Higher temperature and pressure increase production rate\n",
    "    # Longer processing time decreases production rate\n",
    "    production_rate = (\n",
    "        20 + 0.1 * (temperature - 150) \n",
    "        + 2 * (pressure - 5) \n",
    "        - 0.8 * (process_time - 10)\n",
    "    )\n",
    "    \n",
    "    # Add some interesting non-linearity\n",
    "    production_rate += 5 * np.sin(temperature/25) * np.cos(pressure**2/9)\n",
    "    \n",
    "    # Add penalty\n",
    "    return -np.maximum(0, production_rate) + penalty  # Negative because we're minimizing\n"
   ]
  },
  {
   "cell_type": "code",
   "execution_count": null,
   "id": "c28a42e5-0463-4de0-9183-d227993fce33",
   "metadata": {},
   "outputs": [],
   "source": [
    "def defect_rate(x):\n",
    "    \"\"\"\n",
    "    Simulates defect rate for the manufacturing process.\n",
    "    Returns defect percentage.\n",
    "    \"\"\"\n",
    "    temperature, pressure, process_time = x\n",
    "    \n",
    "    # Penalize solutions outside acceptable ranges\n",
    "    penalty = 0\n",
    "    if temperature < 150 or temperature > 250:\n",
    "        penalty += 1e9\n",
    "    if pressure < 5 or pressure > 15:\n",
    "        penalty += 1e9\n",
    "    if process_time < 10 or process_time > 30:\n",
    "        penalty += 1e9\n",
    "    \n",
    "    # Base defect rate\n",
    "    defect = 5.0\n",
    "    \n",
    "## Possibilité de changer les rate en fonction de nos attentes ##\n",
    "    # Temperature affects defect rate with a sweet spot around 200°C\n",
    "    defect += 0.05 * (temperature - 200)**2 / 25\n",
    "    \n",
    "    # Pressure affects defect rate with a sweet spot around 10 MPa\n",
    "    defect += 0.5 * (pressure - 10)**2\n",
    "    \n",
    "    # Longer processing time generally reduces defects\n",
    "    defect -= 0.1 * (process_time - 10)\n",
    "    \n",
    "    # Add some non-linearity\n",
    "    defect += 2 * np.sin(temperature**3/(20**3)) * np.sin(pressure/2)\n",
    "    \n",
    "    return np.minimum(defect + penalty, 100)"
   ]
  },
  {
   "cell_type": "code",
   "execution_count": 4,
   "id": "63f50a9c-aff2-47b4-949f-dafa65f12abd",
   "metadata": {},
   "outputs": [],
   "source": [
    "def energy_consumption(x):\n",
    "    \"\"\"\n",
    "    Simulates energy consumption for the manufacturing process.\n",
    "    Returns energy consumption in kWh.\n",
    "    \"\"\"\n",
    "    temperature, pressure, process_time = x\n",
    "    \n",
    "    # Penalize solutions outside acceptable ranges\n",
    "    penalty = 0\n",
    "    if temperature < 150 or temperature > 250:\n",
    "        penalty += 1e9\n",
    "    if pressure < 5 or pressure > 15:\n",
    "        penalty += 1e9\n",
    "    if process_time < 10 or process_time > 30:\n",
    "        penalty += 1e9\n",
    "    \n",
    "    # Base energy consumption\n",
    "    energy = 10.0\n",
    "    \n",
    "    # Higher temperature increases energy consumption\n",
    "    energy += 0.2 * (temperature - 150)\n",
    "    \n",
    "    # Higher pressure increases energy consumption\n",
    "    energy += 1.5 * (pressure - 5)\n",
    "    \n",
    "    # Longer processing time increases energy consumption\n",
    "    energy += 0.5 * process_time\n",
    "    \n",
    "    return np.maximum(energy, 0) + penalty\n"
   ]
  },
  {
   "cell_type": "markdown",
   "id": "22cdb0c6-794d-4a01-ab4d-37c0fd51edaf",
   "metadata": {},
   "source": [
    "## Multi-Objective Optimization\n",
    "\n",
    "In industrial engineering, we often need to balance multiple competing objectives. There are several approaches to handle this:\n",
    "\n",
    "1. **Weighted Sum**: Combine objectives with different weights based on their importance\n",
    "2. **Pareto Front**: Find a set of non-dominated solutions\n",
    "3. **Lexicographic**: Optimize objectives in order of priority\n",
    "\n",
    "For simplicity, we'll use the weighted sum approach here, but you could extend this to find the Pareto front or use other multi-objective techniques.\n"
   ]
  },
  {
   "cell_type": "code",
   "execution_count": 5,
   "id": "f1298904-56bb-485e-8801-086dd27a2897",
   "metadata": {},
   "outputs": [],
   "source": [
    "def multi_objective(x, weights=[0.5, 0.3, 0.2]):\n",
    "    \"\"\"\n",
    "    Combines multiple objectives using weighted sum approach.\n",
    "    weights: [production_weight, defect_weight, energy_weight]\n",
    "    \"\"\"\n",
    "    # Notice the negative on production rate is already applied in its function\n",
    "    return (\n",
    "        weights[0] * manufacturing_process(x) + \n",
    "        weights[1] * defect_rate(x) + \n",
    "        weights[2] * energy_consumption(x)\n",
    "    )"
   ]
  },
  {
   "cell_type": "markdown",
   "id": "1d5f9349-7ef7-46a0-8f45-bdd62c40ecd5",
   "metadata": {},
   "source": [
    "## Single-Objective Optimization\n",
    "\n",
    "Let's first optimize for just the production rate to see how CMA-ES works on a single objective.\n",
    "\n",
    "CMA-ES requires:\n",
    "- An initial solution (x0)\n",
    "- An initial step size (sigma0)\n",
    "- An objective function to minimize\n",
    "\n",
    "The algorithm will then explore the solution space, adapting its search distribution based on successful solutions it finds.\n"
   ]
  },
  {
   "cell_type": "code",
   "execution_count": 7,
   "id": "b22edd17-10a2-4fb2-9c35-01f60fb04a6f",
   "metadata": {},
   "outputs": [],
   "source": [
    "# Run single-objective optimization for production rate\n",
    "def optimize_production():\n",
    "    print(\"Optimizing for production rate...\")\n",
    "    x0 = [200, 10, 20]  # Initial guess [temperature, pressure, process_time]\n",
    "    sigma0 = 20  # Initial step size\n",
    "    \n",
    "    # Run CMA-ES optimization\n",
    "    result = cma.fmin(manufacturing_process, x0, sigma0, \n",
    "                       options={'maxfevals': 1000, 'verb_disp': 1})\n",
    "    \n",
    "    # Extract the best solution\n",
    "    best_params = result[0]\n",
    "    best_production = -manufacturing_process(best_params)  # Convert back to positive\n",
    "    best_defect = defect_rate(best_params)\n",
    "    best_energy = energy_consumption(best_params)\n",
    "    \n",
    "    print(f\"Best parameters: Temperature={best_params[0]:.2f}°C, \"\n",
    "          f\"Pressure={best_params[1]:.2f}MPa, Process time={best_params[2]:.2f}min\")\n",
    "    print(f\"Production rate: {best_production:.2f} units/hour\")\n",
    "    print(f\"Defect rate: {best_defect:.2f}%\")\n",
    "    print(f\"Energy consumption: {best_energy:.2f} kWh\")\n",
    "    \n",
    "    return best_params, best_production, best_defect, best_energy"
   ]
  },
  {
   "cell_type": "markdown",
   "id": "d3b6f2d1-5bcd-41d6-8777-938693c40809",
   "metadata": {},
   "source": [
    "Now let's optimize all three objectives simultaneously using our weighted sum approach. \n",
    "By adjusting the weights, we can emphasize different objectives based on their importance to the manufacturing process."
   ]
  },
  {
   "cell_type": "code",
   "execution_count": 8,
   "id": "629c9fc2-6b1c-4a08-90f7-179b00ce2d53",
   "metadata": {},
   "outputs": [],
   "source": [
    "def optimize_multi_objective(weights=[0.1, 0.1, 0.8]):\n",
    "    print(f\"Multi-objective optimization with weights: {weights}\")\n",
    "    x0 = [200, 10, 20]  # Initial guess [temperature, pressure, process_time]\n",
    "    sigma0 = 20  # Initial step size\n",
    "    \n",
    "    # Create an objective function with fixed weights\n",
    "    def objective(x):\n",
    "        return multi_objective(x, weights)\n",
    "    \n",
    "    # Run CMA-ES optimization\n",
    "    result = cma.fmin(objective, x0, sigma0, \n",
    "                       options={'maxfevals': 1000, 'verb_disp': 1})\n",
    "    \n",
    "    # Extract the best solution\n",
    "    best_params = result[0]\n",
    "    best_production = -manufacturing_process(best_params)  # Convert back to positive\n",
    "    best_defect = defect_rate(best_params)\n",
    "    best_energy = energy_consumption(best_params)\n",
    "    \n",
    "    print(f\"Best parameters: Temperature={best_params[0]:.2f}°C, \"\n",
    "          f\"Pressure={best_params[1]:.2f}MPa, Process time={best_params[2]:.2f}min\")\n",
    "    print(f\"Production rate: {best_production:.2f} units/hour\")\n",
    "    print(f\"Defect rate: {best_defect:.2f}%\")\n",
    "    print(f\"Energy consumption: {best_energy:.2f} kWh\")\n",
    "    \n",
    "    return best_params, best_production, best_defect, best_energy\n"
   ]
  },
  {
   "cell_type": "markdown",
   "id": "10221578-29b5-4a87-adbf-41f48dbcc5fb",
   "metadata": {},
   "source": [
    "## Visualizing the Objective Functions\n",
    "\n",
    "To better understand our optimization problem, let's visualize each objective function.\n",
    "We'll create 3D surface plots showing how the objectives change with temperature and pressure\n",
    "(keeping process time fixed at 20 minutes for visualization purposes).\n",
    "\n",
    "This visualization helps us understand:\n",
    "- The shape and complexity of each objective function\n",
    "- Potential local optima and challenges for optimization\n",
    "- The conflicting nature of our multiple objectives"
   ]
  },
  {
   "cell_type": "code",
   "execution_count": null,
   "id": "1c1634a7-c926-4153-8906-37787364dc00",
   "metadata": {},
   "outputs": [],
   "source": [
    "# Visualize the production rate objective function\n",
    "def visualize_objective(objective_func, title):\n",
    "    # Create a grid of temperature and pressure values (fixing process_time at 20)\n",
    "    temp_range = np.linspace(150, 250, 50)\n",
    "    pressure_range = np.linspace(5, 15, 50)\n",
    "    T, P = np.meshgrid(temp_range, pressure_range)\n",
    "    Z = np.zeros_like(T)\n",
    "    \n",
    "    # Calculate objective function value at each grid point\n",
    "    for i in range(len(pressure_range)):\n",
    "        for j in range(len(temp_range)):\n",
    "            if objective_func == manufacturing_process:\n",
    "                Z[i, j] = -objective_func([T[i, j], P[i, j], 20])  # Negate to show production\n",
    "            else:\n",
    "                Z[i, j] = objective_func([T[i, j], P[i, j], 20])\n",
    "    \n",
    "    # Create 3D plot\n",
    "    fig = plt.figure(figsize=(10, 8))\n",
    "    ax = fig.add_subplot(111, projection='3d')\n",
    "    surf = ax.plot_surface(T, P, Z, cmap=cm.viridis, alpha=0.8)\n",
    "    \n",
    "    # Add labels and colorbar\n",
    "    ax.set_xlabel('Temperature (°C)')\n",
    "    ax.set_ylabel('Pressure (MPa)')\n",
    "    if objective_func == manufacturing_process:\n",
    "        ax.set_zlabel('Production Rate')\n",
    "        ax.set_title(f'{title} (Process Time = 20min)')\n",
    "    elif objective_func == defect_rate:\n",
    "        ax.set_zlabel('Defect Rate (%)')\n",
    "        ax.set_title(f'{title} (Process Time = 20min)')\n",
    "    elif objective_func == defect_rate:\n",
    "        ax.set_zlabel('Energy Consumption (kWh)')\n",
    "        ax.set_title(f'{title} (Process Time = 20min)')\n",
    "    else:\n",
    "        ax.set_zlabel('Objective')\n",
    "        ax.set_title(title)\n",
    "    \n",
    "    fig.colorbar(surf, ax=ax, shrink=0.5, aspect=5)\n",
    "    plt.tight_layout()\n",
    "    plt.show()"
   ]
  },
  {
   "cell_type": "markdown",
   "id": "9d60da06-7f95-4667-bacb-1f92fc6c7e78",
   "metadata": {},
   "source": [
    "## Running the Optimization and Comparing Results\n",
    "\n",
    "Now let's run both our single-objective and multi-objective optimizations and compare the results.\n",
    "This will help us understand the trade-offs involved in optimizing for multiple competing objectives.\n",
    "\n",
    "For the multi-objective case, we'll use weights that prioritize:\n",
    "- Production rate (40%)\n",
    "- Defect rate (30%)\n",
    "- Energy consumption (30%)"
   ]
  },
  {
   "cell_type": "code",
   "execution_count": null,
   "id": "6e5962be-7500-483d-a9df-8e62944ed7e9",
   "metadata": {},
   "outputs": [],
   "source": [
    "# Run single-objective optimization for production rate\n",
    "best_params_prod, best_production, best_defect_prod, best_energy_prod = optimize_production()"
   ]
  },
  {
   "cell_type": "markdown",
   "id": "cddc2f87-8c0c-42be-8eec-d2f008ddc2fa",
   "metadata": {},
   "source": [
    "Now let's run the multi-objective optimization with differently balanced weights:"
   ]
  },
  {
   "cell_type": "code",
   "execution_count": null,
   "id": "120b8da8-99d2-4c5d-b990-5a667803d337",
   "metadata": {},
   "outputs": [],
   "source": [
    "# Run multi-objective optimization with custom weights\n",
    "weights = [0.3, 0.6, 0.1]  # Production, Defect, Energy\n",
    "best_params_multi, best_production_multi, best_defect_multi, best_energy_multi = optimize_multi_objective(weights)"
   ]
  },
  {
   "cell_type": "markdown",
   "id": "7ddcdfb9-a8ed-4cca-871e-73f141af6888",
   "metadata": {},
   "source": [
    "Let's compare the results from our two optimization approaches:"
   ]
  },
  {
   "cell_type": "code",
   "execution_count": null,
   "id": "ace9ddda-633c-473a-a905-85245fbdd85a",
   "metadata": {},
   "outputs": [],
   "source": [
    "print(\"Comparison:\")\n",
    "print(f\"Production optimization: {best_production:.2f} units/hour, {best_defect_prod:.2f}% defects, {best_energy_prod:.2f} kWh\")\n",
    "print(f\"Multi-objective optimization: {best_production_multi:.2f} units/hour, {best_defect_multi:.2f}% defects, {best_energy_multi:.2f} kWh\")"
   ]
  },
  {
   "cell_type": "markdown",
   "id": "12c658b8-df9b-4d82-b43d-f8d16613b6ae",
   "metadata": {},
   "source": [
    "<div class=\"alert alert-block alert-success\">\n",
    "<h2>Exercise: Visualizing Each Objective Function</h2>\n",
    "\n",
    "Visualize each objective function to better understand the optimization landscape. Then, visualize the multi-objective landscape with a fixed value of weights. When you change the weights, how does the optimization landscape change?\n",
    "</div>"
   ]
  },
  {
   "cell_type": "code",
   "execution_count": null,
   "id": "77df79f3-8c5b-4a46-b382-7cd7cb6dffad",
   "metadata": {},
   "outputs": [],
   "source": [
    "visualize_objective(multi_objective, \"Manufacturing Process Objective\")"
   ]
  },
  {
   "cell_type": "markdown",
   "id": "e7a7723c-448d-41a1-87c6-4e8cdfb4443d",
   "metadata": {},
   "source": [
    "## Exploring Different Weight Combinations\n",
    "\n",
    "In industrial engineering, the importance of different objectives may vary based on business priorities.\n",
    "Let's explore how different weight combinations affect our optimal solution."
   ]
  },
  {
   "cell_type": "code",
   "execution_count": null,
   "id": "103c4fc9-c33b-44a9-b205-1e5bbe195a50",
   "metadata": {},
   "outputs": [],
   "source": [
    "def explore_weight_combinations(weight_combinations):\n",
    "    # Define different weight combinations to explore\n",
    "   \n",
    "    results = []\n",
    "    \n",
    "    for weights in weight_combinations:\n",
    "        print(f\"\\nOptimizing with weights: {weights}\")\n",
    "        best_params, production, defect, energy = optimize_multi_objective(weights)\n",
    "        results.append((weights, best_params, production, defect, energy))\n",
    "    \n",
    "    # Display summary table\n",
    "    print(\"\\nWeight Combination Results Summary:\")\n",
    "    print(\"=\"*80)\n",
    "    print(\"{:<30} {:<15} {:<15} {:<15}\".format(\n",
    "        \"Weights [Prod, Defect, Energy]\", \"Production\", \"Defect Rate\", \"Energy\"))\n",
    "    print(\"-\"*80)\n",
    "    \n",
    "    for weights, _, prod, defect, energy in results:\n",
    "        weight_str = f\"[{weights[0]:.1f}, {weights[1]:.1f}, {weights[2]:.1f}]\"\n",
    "        print(\"{:<30} {:<15.2f} {:<15.2f} {:<15.2f}\".format(\n",
    "            weight_str, prod, defect, energy))\n",
    "    return results"
   ]
  },
  {
   "cell_type": "code",
   "execution_count": null,
   "id": "78ecc140-32c1-4198-93d2-5de043bbf67b",
   "metadata": {},
   "outputs": [],
   "source": [
    "def plot_weight_results(results):\n",
    "    # Plot the results\n",
    "    fig, ax = plt.subplots(figsize=(12, 8))\n",
    "    \n",
    "    # Normalize each metric for better visualization\n",
    "    max_prod = max(result[2] for result in results)\n",
    "    max_defect = max(result[3] for result in results)\n",
    "    max_energy = max(result[4] for result in results)\n",
    "    \n",
    "    # Create x positions for the bars\n",
    "    x = np.arange(len(results))\n",
    "    width = 0.25  # width of the bars\n",
    "    \n",
    "    # Plot bars for each metric\n",
    "    rects1 = ax.bar(x - width, [result[2]/max_prod for result in results], width, label='Production Rate')\n",
    "    rects2 = ax.bar(x, [1 - result[3]/max_defect for result in results], width, label='Quality (1-Defect)')\n",
    "    rects3 = ax.bar(x + width, [1 - result[4]/max_energy for result in results], width, label='Energy Efficiency')\n",
    "    \n",
    "    # Add labels and legend\n",
    "    ax.set_ylabel('Normalized Performance')\n",
    "    ax.set_title('Optimization Results with Different Weight Combinations')\n",
    "    ax.set_xticks(x)\n",
    "    ax.set_xticklabels([f\"W{i+1}\" for i in range(len(results))])\n",
    "    ax.legend()\n",
    "    \n",
    "    # Add a text box explaining the weight combinations\n",
    "    textstr = '\\n'.join([\n",
    "        f\"W1: Production-focused {results[0][0]}\",\n",
    "        f\"W2: Quality-focused {results[1][0]}\",\n",
    "        f\"W3: Energy-focused {results[2][0]}\",\n",
    "        f\"W4: Balanced {results[3][0]}\"\n",
    "    ])\n",
    "    \n",
    "    props = dict(boxstyle='round', facecolor='wheat', alpha=0.5)\n",
    "    ax.text(0.05, 0.05, textstr, transform=ax.transAxes, fontsize=10,\n",
    "            verticalalignment='bottom', bbox=props)\n",
    "    \n",
    "    plt.tight_layout()\n",
    "    plt.show()"
   ]
  },
  {
   "cell_type": "markdown",
   "id": "16ae4c5b-7b94-42b9-a821-21042424f081",
   "metadata": {},
   "source": [
    "<div class=\"alert alert-block alert-success\">\n",
    "<h2>Exercise: Different weight combinations</h2>\n",
    "\n",
    "Compare different weight combinations. Each weight combination should sum to 1. Try configurations that heavily prioritizes production, quality, and energy efficiency, as well as one that is equal. Using the above functions, solve these combinations using CMA-ES and plot the results.</div>"
   ]
  },
  {
   "cell_type": "code",
   "execution_count": null,
   "id": "702cce7a-a420-475d-8e51-aabb625af600",
   "metadata": {},
   "outputs": [],
   "source": [
    "weight_combinations = [\n",
    "    [0.8, 0.1, 0.1],  # Heavily prioritize production\n",
    "    [0.1, 0.8, 0.1],  # Heavily prioritize production\n",
    "    [0.1, 0.1, 0.8],  # Heavily prioritize production\n",
    "    [0.34, 0.33, 0.33]\n",
    "]"
   ]
  },
  {
   "cell_type": "code",
   "execution_count": null,
   "id": "d47d902c-67e5-45de-bd84-c7d3e847d3c6",
   "metadata": {},
   "outputs": [],
   "source": [
    "results = explore_weight_combinations(weight_combinations)"
   ]
  },
  {
   "cell_type": "code",
   "execution_count": null,
   "id": "748991aa-2d3b-4d72-9765-5f6d80f0eba1",
   "metadata": {},
   "outputs": [],
   "source": [
    "plot_weight_results(results)"
   ]
  },
  {
   "cell_type": "code",
   "execution_count": null,
   "id": "d1732b3e-e7d2-484d-95a1-a9b2631f5b15",
   "metadata": {},
   "outputs": [],
   "source": []
  }
 ],
 "metadata": {
  "kernelspec": {
   "display_name": "myenv",
   "language": "python",
   "name": "python3"
  },
  "language_info": {
   "codemirror_mode": {
    "name": "ipython",
    "version": 3
   },
   "file_extension": ".py",
   "mimetype": "text/x-python",
   "name": "python",
   "nbconvert_exporter": "python",
   "pygments_lexer": "ipython3",
   "version": "3.12.11"
  }
 },
 "nbformat": 4,
 "nbformat_minor": 5
}
